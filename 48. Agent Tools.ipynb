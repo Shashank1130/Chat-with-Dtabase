{
 "cells": [
  {
   "cell_type": "markdown",
   "id": "43d421fc",
   "metadata": {},
   "source": [
    "# Agent Tools\n",
    "\n",
    "You can see a full list of integrations here: https://python.langchain.com/docs/modules/agents/tools/"
   ]
  },
  {
   "cell_type": "code",
   "execution_count": 1,
   "id": "3bb224d3",
   "metadata": {},
   "outputs": [],
   "source": [
    "from langchain_google_genai import ChatGoogleGenerativeAI\n",
    "from langchain.agents import load_tools\n",
    "from langchain.agents import initialize_agent\n",
    "from langchain.agents import AgentType"
   ]
  },
  {
   "cell_type": "code",
   "execution_count": 2,
   "id": "5e366637",
   "metadata": {},
   "outputs": [],
   "source": [
    "import os\n",
    "\n",
    "# Setting up API Key - Gemini\n",
    "api = open(\"F:/03- MACHINE LEARNING, DS, and CV/04- Generative AI/01- LangChian (LLMs)/api key.txt\")\n",
    "os.environ[\"GOOGLE_API_KEY\"] = api.read()"
   ]
  },
  {
   "cell_type": "code",
   "execution_count": 3,
   "id": "cb5ad610",
   "metadata": {},
   "outputs": [],
   "source": [
    "# Setting up API Key - SerpAPI(helps for performing a goolge search to the \"Agents\")\n",
    "api = open(\"F:/03- MACHINE LEARNING, DS, and CV/04- Generative AI/01- LangChian (LLMs)/serpapi key.txt\")\n",
    "os.environ[\"SERPAPI_API_KEY\"] = api.read()"
   ]
  },
  {
   "cell_type": "code",
   "execution_count": 4,
   "id": "eff6b336",
   "metadata": {},
   "outputs": [],
   "source": [
    "# Creating a chat model\n",
    "llm = ChatGoogleGenerativeAI(model=\"gemini-pro\", temperature=0.0)"
   ]
  },
  {
   "cell_type": "code",
   "execution_count": 5,
   "id": "f9134981",
   "metadata": {},
   "outputs": [],
   "source": [
    "# loading the tools for agents\n",
    "tools = load_tools(tool_names=[\"serpapi\", \"llm-math\"], llm=llm)"
   ]
  },
  {
   "cell_type": "code",
   "execution_count": 6,
   "id": "592f62df",
   "metadata": {},
   "outputs": [
    {
     "data": {
      "text/plain": [
       "['CHAT_CONVERSATIONAL_REACT_DESCRIPTION',\n",
       " 'CHAT_ZERO_SHOT_REACT_DESCRIPTION',\n",
       " 'CONVERSATIONAL_REACT_DESCRIPTION',\n",
       " 'OPENAI_FUNCTIONS',\n",
       " 'OPENAI_MULTI_FUNCTIONS',\n",
       " 'REACT_DOCSTORE',\n",
       " 'SELF_ASK_WITH_SEARCH',\n",
       " 'STRUCTURED_CHAT_ZERO_SHOT_REACT_DESCRIPTION',\n",
       " 'ZERO_SHOT_REACT_DESCRIPTION',\n",
       " '__class__',\n",
       " '__doc__',\n",
       " '__members__',\n",
       " '__module__']"
      ]
     },
     "execution_count": 6,
     "metadata": {},
     "output_type": "execute_result"
    }
   ],
   "source": [
    "dir(AgentType)"
   ]
  },
  {
   "cell_type": "markdown",
   "id": "6a29587e",
   "metadata": {},
   "source": [
    "### Creating Agent"
   ]
  },
  {
   "cell_type": "code",
   "execution_count": 7,
   "id": "d50937e4",
   "metadata": {},
   "outputs": [
    {
     "name": "stderr",
     "output_type": "stream",
     "text": [
      "C:\\Users\\shash\\anaconda3\\lib\\site-packages\\langchain_core\\_api\\deprecation.py:117: LangChainDeprecationWarning: The function `initialize_agent` was deprecated in LangChain 0.1.0 and will be removed in 0.2.0. Use Use new agent constructor methods like create_react_agent, create_json_agent, create_structured_chat_agent, etc. instead.\n",
      "  warn_deprecated(\n"
     ]
    }
   ],
   "source": [
    "agent = initialize_agent(tools=tools,\n",
    "                         llm=llm,\n",
    "                         agent=AgentType.ZERO_SHOT_REACT_DESCRIPTION,\n",
    "                         verbose=True)"
   ]
  },
  {
   "cell_type": "code",
   "execution_count": 8,
   "id": "4c7cc552",
   "metadata": {},
   "outputs": [
    {
     "name": "stdout",
     "output_type": "stream",
     "text": [
      "\n",
      "\n",
      "\u001b[1m> Entering new AgentExecutor chain...\u001b[0m\n",
      "\u001b[32;1m\u001b[1;3mAction: Search\n",
      "Action Input: When was Albert Einstein born?\u001b[0m\n",
      "Observation: \u001b[36;1m\u001b[1;3mMarch 14, 1879\u001b[0m\n",
      "Thought:\u001b[32;1m\u001b[1;3mAction: Calculator\n",
      "Action Input: 1879 * 5\u001b[0m\n",
      "Observation: \u001b[33;1m\u001b[1;3mAnswer: 9395\u001b[0m\n",
      "Thought:\u001b[32;1m\u001b[1;3mFinal Answer: 9395\u001b[0m\n",
      "\n",
      "\u001b[1m> Finished chain.\u001b[0m\n"
     ]
    }
   ],
   "source": [
    "result = agent.invoke(\"What year was Albert Einstein born? What is that year number multiplied by 5?\")"
   ]
  },
  {
   "cell_type": "code",
   "execution_count": 9,
   "id": "2b9cae4d",
   "metadata": {},
   "outputs": [
    {
     "data": {
      "text/plain": [
       "{'input': 'What year was Albert Einstein born? What is that year number multiplied by 5?',\n",
       " 'output': '9395'}"
      ]
     },
     "execution_count": 9,
     "metadata": {},
     "output_type": "execute_result"
    }
   ],
   "source": [
    "result "
   ]
  },
  {
   "cell_type": "code",
   "execution_count": null,
   "id": "e8c40fb4",
   "metadata": {},
   "outputs": [],
   "source": []
  },
  {
   "cell_type": "markdown",
   "id": "56dfae95",
   "metadata": {},
   "source": [
    "## Another way"
   ]
  },
  {
   "cell_type": "code",
   "execution_count": 10,
   "id": "7f1cf2e4",
   "metadata": {},
   "outputs": [],
   "source": [
    "from langchain.agents import AgentType, create_react_agent, AgentExecutor\n",
    "from langchain import hub"
   ]
  },
  {
   "cell_type": "markdown",
   "id": "e0180e99",
   "metadata": {},
   "source": [
    "#### Initialize tools\n",
    "Let’s load some tools to use."
   ]
  },
  {
   "cell_type": "code",
   "execution_count": 11,
   "id": "0c2d326a",
   "metadata": {},
   "outputs": [],
   "source": [
    "tools = load_tools(tool_names=[\"serpapi\", \"llm-math\"], llm=llm)"
   ]
  },
  {
   "cell_type": "markdown",
   "id": "5aa01bde",
   "metadata": {},
   "source": [
    "### Create Agent"
   ]
  },
  {
   "cell_type": "code",
   "execution_count": 12,
   "id": "00a02503",
   "metadata": {},
   "outputs": [],
   "source": [
    "# Get the prompt to use - you can modify this!\n",
    "prompt = hub.pull(\"hwchase17/react\")"
   ]
  },
  {
   "cell_type": "code",
   "execution_count": 13,
   "id": "062eea6a",
   "metadata": {},
   "outputs": [
    {
     "data": {
      "text/plain": [
       "PromptTemplate(input_variables=['agent_scratchpad', 'input', 'tool_names', 'tools'], template='Answer the following questions as best you can. You have access to the following tools:\\n\\n{tools}\\n\\nUse the following format:\\n\\nQuestion: the input question you must answer\\nThought: you should always think about what to do\\nAction: the action to take, should be one of [{tool_names}]\\nAction Input: the input to the action\\nObservation: the result of the action\\n... (this Thought/Action/Action Input/Observation can repeat N times)\\nThought: I now know the final answer\\nFinal Answer: the final answer to the original input question\\n\\nBegin!\\n\\nQuestion: {input}\\nThought:{agent_scratchpad}')"
      ]
     },
     "execution_count": 13,
     "metadata": {},
     "output_type": "execute_result"
    }
   ],
   "source": [
    "prompt"
   ]
  },
  {
   "cell_type": "code",
   "execution_count": 14,
   "id": "ad8dc9fa",
   "metadata": {},
   "outputs": [],
   "source": [
    "# Construct the ReAct agent\n",
    "agent2 = create_react_agent(llm=llm,\n",
    "                            tools=tools,\n",
    "                            prompt=prompt)"
   ]
  },
  {
   "cell_type": "markdown",
   "id": "0a67d5d4",
   "metadata": {},
   "source": [
    "### Run Agent"
   ]
  },
  {
   "cell_type": "code",
   "execution_count": 15,
   "id": "3b91a2ca",
   "metadata": {},
   "outputs": [],
   "source": [
    "# Create an agent executor by passing in the agent and tools\n",
    "agent_executor = AgentExecutor(agent=agent2,\n",
    "                               tools=tools,\n",
    "                               verbose=True)"
   ]
  },
  {
   "cell_type": "code",
   "execution_count": 16,
   "id": "3fd39526",
   "metadata": {},
   "outputs": [
    {
     "name": "stdout",
     "output_type": "stream",
     "text": [
      "\n",
      "\n",
      "\u001b[1m> Entering new AgentExecutor chain...\u001b[0m\n",
      "\u001b[32;1m\u001b[1;3mAction: Search\n",
      "Action Input: When was Albert Einstein born?\u001b[0m\u001b[36;1m\u001b[1;3mMarch 14, 1879\u001b[0m\u001b[32;1m\u001b[1;3mAction: Calculator\n",
      "Action Input: 1879 * 5\u001b[0m\u001b[33;1m\u001b[1;3mAnswer: 9395\u001b[0m\u001b[32;1m\u001b[1;3mFinal Answer: 9395\u001b[0m\n",
      "\n",
      "\u001b[1m> Finished chain.\u001b[0m\n"
     ]
    }
   ],
   "source": [
    "result = agent_executor.invoke({\"input\":\"What year was Albert Einstein born? What is that year number multiplied by 5?\"})"
   ]
  },
  {
   "cell_type": "code",
   "execution_count": 17,
   "id": "49bfe600",
   "metadata": {},
   "outputs": [
    {
     "data": {
      "text/plain": [
       "{'input': 'What year was Albert Einstein born? What is that year number multiplied by 5?',\n",
       " 'output': '9395'}"
      ]
     },
     "execution_count": 17,
     "metadata": {},
     "output_type": "execute_result"
    }
   ],
   "source": [
    "result"
   ]
  },
  {
   "cell_type": "code",
   "execution_count": null,
   "id": "6ea2fbc4",
   "metadata": {},
   "outputs": [],
   "source": []
  },
  {
   "cell_type": "code",
   "execution_count": null,
   "id": "7615baf9",
   "metadata": {},
   "outputs": [],
   "source": []
  },
  {
   "cell_type": "code",
   "execution_count": null,
   "id": "54c1923d",
   "metadata": {},
   "outputs": [],
   "source": []
  }
 ],
 "metadata": {
  "kernelspec": {
   "display_name": "Python 3 (ipykernel)",
   "language": "python",
   "name": "python3"
  },
  "language_info": {
   "codemirror_mode": {
    "name": "ipython",
    "version": 3
   },
   "file_extension": ".py",
   "mimetype": "text/x-python",
   "name": "python",
   "nbconvert_exporter": "python",
   "pygments_lexer": "ipython3",
   "version": "3.9.12"
  }
 },
 "nbformat": 4,
 "nbformat_minor": 5
}
