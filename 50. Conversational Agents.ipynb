{
 "cells": [
  {
   "cell_type": "markdown",
   "id": "70c25ff8",
   "metadata": {},
   "source": [
    "# Conversational Agents"
   ]
  },
  {
   "cell_type": "code",
   "execution_count": 1,
   "id": "e61333ad",
   "metadata": {},
   "outputs": [],
   "source": [
    "from langchain_google_genai import ChatGoogleGenerativeAI\n",
    "from langchain.agents import tool, AgentType\n",
    "from langchain.memory import ConversationBufferMemory\n",
    "from langchain.agents import load_tools, AgentExecutor, create_react_agent\n",
    "from langchain import hub"
   ]
  },
  {
   "cell_type": "code",
   "execution_count": 2,
   "id": "60f36b29",
   "metadata": {},
   "outputs": [],
   "source": [
    "import os\n",
    "\n",
    "# Setting up API Key - Gemini\n",
    "api = open(\"F:/03- MACHINE LEARNING, DS, and CV/04- Generative AI/01- LangChian (LLMs)/api key.txt\")\n",
    "os.environ[\"GOOGLE_API_KEY\"] = api.read()"
   ]
  },
  {
   "cell_type": "code",
   "execution_count": 3,
   "id": "91a8af1e",
   "metadata": {},
   "outputs": [],
   "source": [
    "# Creating Chat Model\n",
    "llm = ChatGoogleGenerativeAI(model=\"gemini-pro\", temperature=0.0)"
   ]
  },
  {
   "cell_type": "code",
   "execution_count": 4,
   "id": "8c2fcb8e",
   "metadata": {},
   "outputs": [],
   "source": [
    "# Memory\n",
    "memory = ConversationBufferMemory(memory_key=\"chat_history\")"
   ]
  },
  {
   "cell_type": "code",
   "execution_count": 5,
   "id": "ba27ea4d",
   "metadata": {},
   "outputs": [],
   "source": [
    "# Loading the tools\n",
    "tools = load_tools(tool_names=[\"llm-math\", \"wikipedia\"], llm=llm)"
   ]
  },
  {
   "cell_type": "markdown",
   "id": "5aa84c9b",
   "metadata": {},
   "source": [
    "### Create Agent"
   ]
  },
  {
   "cell_type": "code",
   "execution_count": 6,
   "id": "28c1c274",
   "metadata": {},
   "outputs": [],
   "source": [
    "# Get the prompt to use \n",
    "prompt = hub.pull(\"hwchase17/react\")"
   ]
  },
  {
   "cell_type": "code",
   "execution_count": 7,
   "id": "e725cfcd",
   "metadata": {},
   "outputs": [],
   "source": [
    "# Construct the ReAct agent\n",
    "agent = create_react_agent(llm=llm, \n",
    "                           tools=tools,\n",
    "                           prompt=prompt)"
   ]
  },
  {
   "cell_type": "markdown",
   "id": "a648a2ea",
   "metadata": {},
   "source": [
    "### Run Agent"
   ]
  },
  {
   "cell_type": "code",
   "execution_count": 8,
   "id": "b772c437",
   "metadata": {},
   "outputs": [],
   "source": [
    "# Create an agent executor by passing in the agent and tools\n",
    "agent_executor = AgentExecutor(agent=agent,\n",
    "                               tools=tools,\n",
    "                               memory=memory,\n",
    "                               verbose=True)"
   ]
  },
  {
   "cell_type": "code",
   "execution_count": 9,
   "id": "d11d63ed",
   "metadata": {
    "scrolled": true
   },
   "outputs": [
    {
     "name": "stdout",
     "output_type": "stream",
     "text": [
      "\n",
      "\n",
      "\u001b[1m> Entering new AgentExecutor chain...\u001b[0m\n",
      "\u001b[32;1m\u001b[1;3mAction: wikipedia\n",
      "Action Input: Indian feed recipes\u001b[0m\u001b[33;1m\u001b[1;3mPage: Indian cuisine\n",
      "Summary: Indian cuisine consists of a variety of regional and traditional cuisines native to the Indian subcontinent. Given the diversity in soil, climate, culture, ethnic groups, and occupations, these cuisines vary substantially and use locally available spices, herbs, vegetables, and fruits.\n",
      "Indian food is also heavily influenced by religion, in particular Hinduism and Islam, cultural choices and traditions.Historical events such as invasions, trade relations, and colonialism have played a role in introducing certain foods to this country. The Columbian discovery of the New World brought a number of new vegetables and fruit to India. A number of these such as potatoes, tomatoes, chillies, peanuts, and guava have become staples in many regions of India.Indian cuisine has shaped the history of international relations; the spice trade between India and Europe was the primary catalyst for Europe's Age of Discovery. Spices were bought from India and traded around Europe and Asia. Indian cuisine has influenced other cuisines across the world, especially those from Europe (especially Britain), the Middle East, Southern African, East Africa, Southeast Asia, North America, Mauritius, Fiji, Oceania, and the Caribbean.\n",
      "\n",
      "Page: Mulligatawny\n",
      "Summary: Mulligatawny ( ) is a soup which originated from South Indian cuisine. The name originates from the Tamil words miḷagu (மிளகு 'black pepper'), and taṇṇi (தண்ணி, 'water'); literally, \"pepper-water\". It is related to the dish rasam.Main ingredients commonly include chicken, mutton, and lentils.\n",
      "\n",
      "Page: Papadam\n",
      "Summary: A papadam (also spelled poppadom, among other variants), also known as papad, is a snack that originated in the Indian subcontinent. Dough of black gram bean flour is either deep fried or cooked with dry heat (flipped over an open flame) until crunchy. Other flours made from lentils, chickpeas, rice, tapioca, millet or potato are also used. Papadam is typically served as an accompaniment to a meal in India, Pakistan, Bangladesh, Nepal, Sri Lanka and the Caribbean or as an appetizer, often with a dip such as chutneys, or toppings such as chopped onions and chili peppers, or it may be used as an ingredient in curries.\u001b[0m\u001b[32;1m\u001b[1;3mAction: wikipedia\n",
      "Action Input: Indian feed recipes\u001b[0m\u001b[33;1m\u001b[1;3mPage: Indian cuisine\n",
      "Summary: Indian cuisine consists of a variety of regional and traditional cuisines native to the Indian subcontinent. Given the diversity in soil, climate, culture, ethnic groups, and occupations, these cuisines vary substantially and use locally available spices, herbs, vegetables, and fruits.\n",
      "Indian food is also heavily influenced by religion, in particular Hinduism and Islam, cultural choices and traditions.Historical events such as invasions, trade relations, and colonialism have played a role in introducing certain foods to this country. The Columbian discovery of the New World brought a number of new vegetables and fruit to India. A number of these such as potatoes, tomatoes, chillies, peanuts, and guava have become staples in many regions of India.Indian cuisine has shaped the history of international relations; the spice trade between India and Europe was the primary catalyst for Europe's Age of Discovery. Spices were bought from India and traded around Europe and Asia. Indian cuisine has influenced other cuisines across the world, especially those from Europe (especially Britain), the Middle East, Southern African, East Africa, Southeast Asia, North America, Mauritius, Fiji, Oceania, and the Caribbean.\n",
      "\n",
      "Page: Mulligatawny\n",
      "Summary: Mulligatawny ( ) is a soup which originated from South Indian cuisine. The name originates from the Tamil words miḷagu (மிளகு 'black pepper'), and taṇṇi (தண்ணி, 'water'); literally, \"pepper-water\". It is related to the dish rasam.Main ingredients commonly include chicken, mutton, and lentils.\n",
      "\n",
      "Page: Papadam\n",
      "Summary: A papadam (also spelled poppadom, among other variants), also known as papad, is a snack that originated in the Indian subcontinent. Dough of black gram bean flour is either deep fried or cooked with dry heat (flipped over an open flame) until crunchy. Other flours made from lentils, chickpeas, rice, tapioca, millet or potato are also used. Papadam is typically served as an accompaniment to a meal in India, Pakistan, Bangladesh, Nepal, Sri Lanka and the Caribbean or as an appetizer, often with a dip such as chutneys, or toppings such as chopped onions and chili peppers, or it may be used as an ingredient in curries.\u001b[0m\u001b[32;1m\u001b[1;3mFinal Answer: I am sorry, I cannot find any Indian feed recipes in the provided context.\u001b[0m\n",
      "\n",
      "\u001b[1m> Finished chain.\u001b[0m\n"
     ]
    }
   ],
   "source": [
    "result = agent_executor.invoke({\"input\":\"What are some good Indian feed recipes?\"})"
   ]
  },
  {
   "cell_type": "code",
   "execution_count": 10,
   "id": "e1e4eec7",
   "metadata": {},
   "outputs": [
    {
     "data": {
      "text/plain": [
       "{'input': 'What are some good Indian feed recipes?',\n",
       " 'chat_history': '',\n",
       " 'output': 'I am sorry, I cannot find any Indian feed recipes in the provided context.'}"
      ]
     },
     "execution_count": 10,
     "metadata": {},
     "output_type": "execute_result"
    }
   ],
   "source": [
    "result"
   ]
  },
  {
   "cell_type": "code",
   "execution_count": 11,
   "id": "752cd96b",
   "metadata": {
    "scrolled": true
   },
   "outputs": [
    {
     "name": "stdout",
     "output_type": "stream",
     "text": [
      "\n",
      "\n",
      "\u001b[1m> Entering new AgentExecutor chain...\u001b[0m\n",
      "\u001b[32;1m\u001b[1;3mAction: wikipedia\n",
      "Action Input: What is the spiciest dish?\u001b[0m\u001b[33;1m\u001b[1;3mPage: Chongqing hot pot\n",
      "Summary: Chongqing hot pot (simplified Chinese: 重庆火锅; traditional Chinese: 重慶火鍋; pinyin: Chóngqìng huǒguō), also known as spicy hot pot, is usually eaten at restaurants, but otherwise is similar to roadside malatang. Chongqing hot pot is similar to the dry stir-fried mala xiang guo (麻辣香锅) which is also eaten in restaurants.The traditional way of preparing and eating this style of dish is to put the food in a hot pot, wait for the food to cook, and when the food is ready, dip the pieces in sesame oil and eat them. People choose various kinds of food to prepare in Chongqing hot pot, such as beef, pork, chicken, Chinese sausages, beef strips, pig blood, and duck intestine.\n",
      "\n",
      "Page: Andhra cuisine\n",
      "Summary: Andhra cuisine, culturally known as Telugu cuisine, is a cuisine of India native to the state of Andhra Pradesh and is the culinary style of Telugu people. It is generally known for its tangy, hot, and spicy taste.\n",
      "\n",
      "Page: Indian cuisine\n",
      "Summary: Indian cuisine consists of a variety of regional and traditional cuisines native to the Indian subcontinent. Given the diversity in soil, climate, culture, ethnic groups, and occupations, these cuisines vary substantially and use locally available spices, herbs, vegetables, and fruits.\n",
      "Indian food is also heavily influenced by religion, in particular Hinduism and Islam, cultural choices and traditions.Historical events such as invasions, trade relations, and colonialism have played a role in introducing certain foods to this country. The Columbian discovery of the New World brought a number of new vegetables and fruit to India. A number of these such as potatoes, tomatoes, chillies, peanuts, and guava have become staples in many regions of India.Indian cuisine has shaped the history of international relations; the spice trade between India and Europe was the primary catalyst for Europe's Age of Discovery. Spices were bought from India and traded around Europe and Asia. Indian cuisine has influenced other cuisines across the world, especially those from Europe (especially Britain), the Middle East, Southern African, East Africa, Southeast Asia, North America, Mauritius, Fiji, Oceania, and the Caribbean.\u001b[0m\u001b[32;1m\u001b[1;3mAction: wikipedia\n",
      "Action Input: What is the spiciest dish in Andhra cuisine?\u001b[0m\u001b[33;1m\u001b[1;3mPage: Andhra cuisine\n",
      "Summary: Andhra cuisine, culturally known as Telugu cuisine, is a cuisine of India native to the state of Andhra Pradesh and is the culinary style of Telugu people. It is generally known for its tangy, hot, and spicy taste.\n",
      "\n",
      "Page: Indian cuisine\n",
      "Summary: Indian cuisine consists of a variety of regional and traditional cuisines native to the Indian subcontinent. Given the diversity in soil, climate, culture, ethnic groups, and occupations, these cuisines vary substantially and use locally available spices, herbs, vegetables, and fruits.\n",
      "Indian food is also heavily influenced by religion, in particular Hinduism and Islam, cultural choices and traditions.Historical events such as invasions, trade relations, and colonialism have played a role in introducing certain foods to this country. The Columbian discovery of the New World brought a number of new vegetables and fruit to India. A number of these such as potatoes, tomatoes, chillies, peanuts, and guava have become staples in many regions of India.Indian cuisine has shaped the history of international relations; the spice trade between India and Europe was the primary catalyst for Europe's Age of Discovery. Spices were bought from India and traded around Europe and Asia. Indian cuisine has influenced other cuisines across the world, especially those from Europe (especially Britain), the Middle East, Southern African, East Africa, Southeast Asia, North America, Mauritius, Fiji, Oceania, and the Caribbean.\n",
      "\n",
      "Page: Nagpur\n",
      "Summary: Nagpur (pronunciation: [naːɡpuːɾ]) is the third-largest city of the Indian state of Maharashtra after Mumbai and Pune. Known as the \"Orange City\", Nagpur is the 13th largest city in India by population. According to an Oxford's Economics report, Nagpur is projected to be the fifth fastest growing city in the world from 2019 to 2035 with an average growth of 8.41%. It has been proposed as one of the Smart Cities in Maharashtra and is one of the top ten cities in India in Smart City Project execution.Nagpur is the seat of the annual winter session of the Maharashtra state assembly. It is a major commercial and political centre of the Vidarbha region of Maharashtra. In addition, the city derives unique importance from being a key location for the Dalit Buddhist movement and the headquarters for the right-wing Hindu organisation and public serves organisation RSS. Nagpur is also known for the Deekshabhoomi, which is graded an A-class tourism and pilgrimage site, the largest hollow stupa among all the Buddhist stupas in the world. The regional branch of Bombay High Court is also situated within the city.According to a survey by ABP News-Ipsos, Nagpur was identified as the best city in India topping in livability, greenery, Public Transport, and Health Care indices in 2013. The city was adjudged the 20th cleanest city in India and the top mover in the western zone as per Swachh Sarvekshan 2016. It was awarded as the best city for innovation and best practice in Swachh Sarvekshan 2018. It was also declared as open defecation free in January 2018 under Swachh Bharat Mission. It is also one of the safest cities for women in India. The city also ranked 25th in Ease of Living index 2020 among 111 cities in India. It was ranked the 8th most competitive city in the country by the Institute for Competitiveness for the year 2017.It is famous for Nagpur oranges and is sometimes known as the Orange City for being a major trade centre of oranges cultivated in large part of the region. It is also called the Tiger Capital of India or the Tiger Gateway of India as many tiger reserves are located in and around the city and also hosts the regional office of National Tiger Conservation Authority. The city was founded in 1702 by the Gond King Bakht Buland Shah of Deogarh and later became a part of the Maratha Empire under the royal Bhonsale dynasty. The British East India Company took over Nagpur in the 19th century and made it the capital of the Central Provi\u001b[0m\u001b[32;1m\u001b[1;3mAction: wikipedia\n",
      "Action Input: What is the spiciest dish in Indian cuisine?\u001b[0m\u001b[33;1m\u001b[1;3mPage: Indian cuisine\n",
      "Summary: Indian cuisine consists of a variety of regional and traditional cuisines native to the Indian subcontinent. Given the diversity in soil, climate, culture, ethnic groups, and occupations, these cuisines vary substantially and use locally available spices, herbs, vegetables, and fruits.\n",
      "Indian food is also heavily influenced by religion, in particular Hinduism and Islam, cultural choices and traditions.Historical events such as invasions, trade relations, and colonialism have played a role in introducing certain foods to this country. The Columbian discovery of the New World brought a number of new vegetables and fruit to India. A number of these such as potatoes, tomatoes, chillies, peanuts, and guava have become staples in many regions of India.Indian cuisine has shaped the history of international relations; the spice trade between India and Europe was the primary catalyst for Europe's Age of Discovery. Spices were bought from India and traded around Europe and Asia. Indian cuisine has influenced other cuisines across the world, especially those from Europe (especially Britain), the Middle East, Southern African, East Africa, Southeast Asia, North America, Mauritius, Fiji, Oceania, and the Caribbean.\n",
      "\n",
      "Page: Thai cuisine\n",
      "Summary: Thai cuisine (Thai: อาหารไทย, RTGS: ahan thai, pronounced [ʔāː.hǎːn tʰāj]) is the national cuisine of Thailand.\n",
      "Thai cooking places emphasis on lightly prepared dishes with strong aromatic components and a spicy edge. Australian chef David Thompson, an expert on Thai food, observes that unlike many other cuisines, Thai cooking is \"about the juggling of disparate elements to create a harmonious finish. Like a complex musical chord it's got to have a smooth surface but it doesn't matter what's happening underneath. Simplicity isn't the dictum here, at all.\"\n",
      "Traditional Thai cuisine loosely falls into four categories: tom (boiled dishes), yam (spicy salads), tam (pounded foods), and kaeng (curries). Deep-frying, stir-frying and steaming are methods introduced from Chinese cuisine.In 2017, seven Thai dishes appeared on a list of the \"World's 50 Best Foods\", an online poll of 35,000 people worldwide by CNN Travel. Thailand had more dishes on the list than any other country: tom yam kung (4th), pad thai (5th), som tam (6th), massaman curry (10th), green curry (19th), Thai fried rice (24th) and nam tok mu (36th).\n",
      "\n",
      "Page: Andhra cuisine\n"
     ]
    },
    {
     "name": "stdout",
     "output_type": "stream",
     "text": [
      "Summary: Andhra cuisine, culturally known as Telugu cuisine, is a cuisine of India native to the state of Andhra Pradesh and is the culinary style of Telugu people. It is generally known for its tangy, hot, and spicy taste.\u001b[0m\u001b[32;1m\u001b[1;3mFinal Answer: I cannot answer this question as the provided text does not specify which dish is the spiciest.\u001b[0m\n",
      "\n",
      "\u001b[1m> Finished chain.\u001b[0m\n"
     ]
    }
   ],
   "source": [
    "result2 = agent_executor.invoke({\"input\":\"Which one of those dishes above is the spiciest?\"})"
   ]
  },
  {
   "cell_type": "code",
   "execution_count": 12,
   "id": "32d57f96",
   "metadata": {},
   "outputs": [
    {
     "data": {
      "text/plain": [
       "{'input': 'Which one of those dishes above is the spiciest?',\n",
       " 'chat_history': 'Human: What are some good Indian feed recipes?\\nAI: I am sorry, I cannot find any Indian feed recipes in the provided context.',\n",
       " 'output': 'I cannot answer this question as the provided text does not specify which dish is the spiciest.'}"
      ]
     },
     "execution_count": 12,
     "metadata": {},
     "output_type": "execute_result"
    }
   ],
   "source": [
    "result2"
   ]
  },
  {
   "cell_type": "code",
   "execution_count": null,
   "id": "1589a4c3",
   "metadata": {},
   "outputs": [],
   "source": []
  },
  {
   "cell_type": "code",
   "execution_count": null,
   "id": "9ced5d43",
   "metadata": {},
   "outputs": [],
   "source": []
  },
  {
   "cell_type": "code",
   "execution_count": null,
   "id": "0cbfe211",
   "metadata": {},
   "outputs": [],
   "source": []
  }
 ],
 "metadata": {
  "kernelspec": {
   "display_name": "Python 3 (ipykernel)",
   "language": "python",
   "name": "python3"
  },
  "language_info": {
   "codemirror_mode": {
    "name": "ipython",
    "version": 3
   },
   "file_extension": ".py",
   "mimetype": "text/x-python",
   "name": "python",
   "nbconvert_exporter": "python",
   "pygments_lexer": "ipython3",
   "version": "3.9.12"
  }
 },
 "nbformat": 4,
 "nbformat_minor": 5
}
