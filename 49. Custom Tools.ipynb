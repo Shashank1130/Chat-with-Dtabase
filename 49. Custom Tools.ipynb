{
 "cells": [
  {
   "cell_type": "markdown",
   "id": "232d35cf",
   "metadata": {},
   "source": [
    "# Custom Tools"
   ]
  },
  {
   "cell_type": "code",
   "execution_count": 1,
   "id": "9db63287",
   "metadata": {},
   "outputs": [],
   "source": [
    "from langchain_google_genai import ChatGoogleGenerativeAI\n",
    "from langchain.agents import load_tools\n",
    "from langchain.agents import initialize_agent, AgentExecutor, AgentType\n",
    "from langchain.agents import AgentType, create_react_agent, AgentExecutor\n",
    "from langchain import hub"
   ]
  },
  {
   "cell_type": "code",
   "execution_count": 2,
   "id": "638bcedf",
   "metadata": {},
   "outputs": [],
   "source": [
    "import os\n",
    "\n",
    "# Setting up API Key - Gemini\n",
    "api = open(\"F:/03- MACHINE LEARNING, DS, and CV/04- Generative AI/01- LangChian (LLMs)/api key.txt\")\n",
    "os.environ[\"GOOGLE_API_KEY\"] = api.read()"
   ]
  },
  {
   "cell_type": "code",
   "execution_count": 3,
   "id": "9bf4ee0a",
   "metadata": {},
   "outputs": [],
   "source": [
    "gemini = ChatGoogleGenerativeAI(model=\"gemini-pro\", temperature=0.0)"
   ]
  },
  {
   "cell_type": "markdown",
   "id": "425cc4dc",
   "metadata": {},
   "source": [
    "### Wrap your own function with the tool decorator"
   ]
  },
  {
   "cell_type": "code",
   "execution_count": 4,
   "id": "272904fc",
   "metadata": {},
   "outputs": [],
   "source": [
    "from langchain.agents import tool"
   ]
  },
  {
   "cell_type": "code",
   "execution_count": 5,
   "id": "b1ff93f2",
   "metadata": {},
   "outputs": [],
   "source": [
    "# LLM -> From Docstrings select approproate tool -> pick tool -> Action -> Observation ->\n",
    "\n",
    "@tool\n",
    "def coolest_guy(text: str) -> str:\n",
    "    # Here inside the doc string is where you need to be realy descriptive \n",
    "    # because the docstring is what is fed into the Large Language Model \n",
    "    # when it decides on what tools to use\n",
    "    '''Returns the name the coolest person in the universe.'''\n",
    "    return \"Shashank Dubey\""
   ]
  },
  {
   "cell_type": "code",
   "execution_count": 6,
   "id": "b6481244",
   "metadata": {},
   "outputs": [],
   "source": [
    "tools = load_tools(tool_names=[\"wikipedia\", \"llm-math\"], llm=gemini)\n",
    "tools = tools + [coolest_guy]"
   ]
  },
  {
   "cell_type": "code",
   "execution_count": 7,
   "id": "8e86ee66",
   "metadata": {},
   "outputs": [
    {
     "name": "stderr",
     "output_type": "stream",
     "text": [
      "C:\\Users\\shash\\anaconda3\\lib\\site-packages\\langchain_core\\_api\\deprecation.py:117: LangChainDeprecationWarning: The function `initialize_agent` was deprecated in LangChain 0.1.0 and will be removed in 0.2.0. Use Use new agent constructor methods like create_react_agent, create_json_agent, create_structured_chat_agent, etc. instead.\n",
      "  warn_deprecated(\n"
     ]
    }
   ],
   "source": [
    "agent = initialize_agent(tools=tools,\n",
    "                         llm=gemini,\n",
    "                         agent=AgentType.ZERO_SHOT_REACT_DESCRIPTION,\n",
    "                         verbose=True)"
   ]
  },
  {
   "cell_type": "code",
   "execution_count": 8,
   "id": "621daced",
   "metadata": {},
   "outputs": [
    {
     "name": "stdout",
     "output_type": "stream",
     "text": [
      "\n",
      "\n",
      "\u001b[1m> Entering new AgentExecutor chain...\u001b[0m\n",
      "\u001b[32;1m\u001b[1;3mAction: coolest_guy\n",
      "Action Input: \u001b[0m\n",
      "Observation: \u001b[38;5;200m\u001b[1;3mShashank Dubey\u001b[0m\n",
      "Thought:\u001b[32;1m\u001b[1;3mFinal Answer: Shashank Dubey\u001b[0m\n",
      "\n",
      "\u001b[1m> Finished chain.\u001b[0m\n"
     ]
    },
    {
     "data": {
      "text/plain": [
       "{'input': 'Who is the coolest person in the universe?',\n",
       " 'output': 'Shashank Dubey'}"
      ]
     },
     "execution_count": 8,
     "metadata": {},
     "output_type": "execute_result"
    }
   ],
   "source": [
    "agent.invoke(\"Who is the coolest person in the universe?\")"
   ]
  },
  {
   "cell_type": "code",
   "execution_count": null,
   "id": "e7a35470",
   "metadata": {},
   "outputs": [],
   "source": []
  },
  {
   "cell_type": "markdown",
   "id": "9a128e75",
   "metadata": {},
   "source": [
    "### Updated way to use agents"
   ]
  },
  {
   "cell_type": "code",
   "execution_count": 9,
   "id": "8f1246c7",
   "metadata": {},
   "outputs": [],
   "source": [
    "# LLM -> From Docstrings select approproate tool -> pick tool -> Action -> Observation ->\n",
    "\n",
    "@tool\n",
    "def coolest_guy(text: str) -> str:\n",
    "    # Here inside the doc string is where you need to be realy descriptive \n",
    "    # because the docstring is what is fed into the Large Language Model \n",
    "    # when it decides on what tools to use\n",
    "    '''Returns the name the coolest person in the universe.'''\n",
    "    return \"Shashank Dubey\""
   ]
  },
  {
   "cell_type": "code",
   "execution_count": 10,
   "id": "c682d457",
   "metadata": {},
   "outputs": [],
   "source": [
    "tools = load_tools(tool_names=[\"wikipedia\", \"llm-math\"], llm=gemini)\n",
    "tools = tools + [coolest_guy]"
   ]
  },
  {
   "cell_type": "markdown",
   "id": "d14962b2",
   "metadata": {},
   "source": [
    "### Create Agent"
   ]
  },
  {
   "cell_type": "code",
   "execution_count": 11,
   "id": "d6e2ec85",
   "metadata": {},
   "outputs": [],
   "source": [
    "# Get the prompt to use - you can modify this!\n",
    "prompt = hub.pull(\"hwchase17/react\")"
   ]
  },
  {
   "cell_type": "code",
   "execution_count": 12,
   "id": "d13d89a0",
   "metadata": {},
   "outputs": [],
   "source": [
    "agent2 = create_react_agent(llm=gemini,\n",
    "                            tools=tools,\n",
    "                            prompt=prompt)"
   ]
  },
  {
   "cell_type": "markdown",
   "id": "80bd1987",
   "metadata": {},
   "source": [
    "### Run Agent"
   ]
  },
  {
   "cell_type": "code",
   "execution_count": 13,
   "id": "9dee11f7",
   "metadata": {},
   "outputs": [],
   "source": [
    "# Create an agent executor by passing in the agent and tools\n",
    "agent_executor = AgentExecutor(agent=agent2,\n",
    "                               tools=tools,\n",
    "                               verbose=True)"
   ]
  },
  {
   "cell_type": "code",
   "execution_count": 14,
   "id": "ea4cba7e",
   "metadata": {},
   "outputs": [
    {
     "name": "stdout",
     "output_type": "stream",
     "text": [
      "\n",
      "\n",
      "\u001b[1m> Entering new AgentExecutor chain...\u001b[0m\n",
      "\u001b[32;1m\u001b[1;3mAction: coolest_guy\n",
      "Action Input: \u001b[0m\u001b[38;5;200m\u001b[1;3mShashank Dubey\u001b[0m\u001b[32;1m\u001b[1;3mFinal Answer: Shashank Dubey\u001b[0m\n",
      "\n",
      "\u001b[1m> Finished chain.\u001b[0m\n"
     ]
    }
   ],
   "source": [
    "result = agent_executor.invoke({\"input\":\"Who is the coolest person in the universe?\"})"
   ]
  },
  {
   "cell_type": "code",
   "execution_count": 15,
   "id": "5c959299",
   "metadata": {},
   "outputs": [
    {
     "data": {
      "text/plain": [
       "{'input': 'Who is the coolest person in the universe?',\n",
       " 'output': 'Shashank Dubey'}"
      ]
     },
     "execution_count": 15,
     "metadata": {},
     "output_type": "execute_result"
    }
   ],
   "source": [
    "result"
   ]
  },
  {
   "cell_type": "code",
   "execution_count": null,
   "id": "e8af0e3d",
   "metadata": {},
   "outputs": [],
   "source": []
  },
  {
   "cell_type": "markdown",
   "id": "018f9268",
   "metadata": {},
   "source": [
    "### Creating a tool for API call"
   ]
  },
  {
   "cell_type": "code",
   "execution_count": 16,
   "id": "bb73faf0",
   "metadata": {},
   "outputs": [],
   "source": [
    "@tool\n",
    "def some_api_call(text: str) -> str:\n",
    "    '''Can now connect your Agents to any tool via an API call, get creative here!'''\n",
    "    return api_result"
   ]
  },
  {
   "cell_type": "markdown",
   "id": "cc00f2bd",
   "metadata": {},
   "source": [
    "### Creating a tool to get what time it is"
   ]
  },
  {
   "cell_type": "code",
   "execution_count": 17,
   "id": "c180a489",
   "metadata": {},
   "outputs": [],
   "source": [
    "from datetime import datetime"
   ]
  },
  {
   "cell_type": "code",
   "execution_count": 18,
   "id": "0522bb69",
   "metadata": {},
   "outputs": [],
   "source": [
    "# DOC STRINGS SHOULD BE VERY DESCRIPTIVE\n",
    "# IT IS WHAT THE LLM READS TO DECIDE TO USE THE TOOL!\n",
    "@tool\n",
    "def get_current_time(text: str) -> str:\n",
    "    '''Returns the current time. Use this tool only for any questions \n",
    "    regarding the current time. Curent time is returned in a string format. Only use this\n",
    "    function for the current time. If question is about historical time related questions\n",
    "    should not this tool but \"wikipedia\" another tool. And give the answer only.'''\n",
    "    return str(datetime.now())"
   ]
  },
  {
   "cell_type": "code",
   "execution_count": 19,
   "id": "baa80060",
   "metadata": {},
   "outputs": [],
   "source": [
    "new_tools = tools + [get_current_time]"
   ]
  },
  {
   "cell_type": "code",
   "execution_count": 20,
   "id": "a16b426f",
   "metadata": {},
   "outputs": [],
   "source": [
    "agent3 = create_react_agent(llm=gemini,\n",
    "                            tools=new_tools,\n",
    "                            prompt=prompt)"
   ]
  },
  {
   "cell_type": "code",
   "execution_count": 21,
   "id": "e780c210",
   "metadata": {},
   "outputs": [],
   "source": [
    "agent_executor3 = AgentExecutor(agent=agent3,\n",
    "                                tools=new_tools,\n",
    "                                verbose=True)"
   ]
  },
  {
   "cell_type": "code",
   "execution_count": 22,
   "id": "1c2fa290",
   "metadata": {},
   "outputs": [
    {
     "name": "stdout",
     "output_type": "stream",
     "text": [
      "\n",
      "\n",
      "\u001b[1m> Entering new AgentExecutor chain...\u001b[0m\n",
      "\u001b[32;1m\u001b[1;3mAction: get_current_time\n",
      "Action Input: None\u001b[0m\u001b[36;1m\u001b[1;3m2024-03-13 09:07:57.548046\u001b[0m\u001b[32;1m\u001b[1;3mFinal Answer: 2024-03-13 09:07:57.548046\u001b[0m\n",
      "\n",
      "\u001b[1m> Finished chain.\u001b[0m\n"
     ]
    }
   ],
   "source": [
    "result3 = agent_executor3.invoke({\"input\":\"What time current time?\"})"
   ]
  },
  {
   "cell_type": "code",
   "execution_count": 23,
   "id": "8008a672",
   "metadata": {},
   "outputs": [
    {
     "data": {
      "text/plain": [
       "{'input': 'What time current time?', 'output': '2024-03-13 09:07:57.548046'}"
      ]
     },
     "execution_count": 23,
     "metadata": {},
     "output_type": "execute_result"
    }
   ],
   "source": [
    "result3"
   ]
  },
  {
   "cell_type": "code",
   "execution_count": 24,
   "id": "c585e809",
   "metadata": {},
   "outputs": [
    {
     "name": "stdout",
     "output_type": "stream",
     "text": [
      "\n",
      "\n",
      "\u001b[1m> Entering new AgentExecutor chain...\u001b[0m\n",
      "\u001b[32;1m\u001b[1;3mAction: wikipedia\n",
      "Action Input: When did Pearl Harbor happen?\u001b[0m\u001b[36;1m\u001b[1;3mPage: Attack on Pearl Harbor\n",
      "Summary: The attack on Pearl Harbor was a surprise military strike by the Imperial Japanese Navy Air Service upon the United States against the American naval base at Pearl Harbor in Honolulu, Hawaii, just before 8:00 a.m. (local time) on Sunday, December 7, 1941. The United States was a neutral country at the time; the attack led the U.S. to formally enter World War II on the side of the Allies the following day. The Japanese military leadership referred to the attack as the Hawaii Operation and Operation AI, and as Operation Z during its planning.The attack was preceded by months of negotiations between the United States and Japan over the future of the Pacific. Japanese demands included that the United States end its sanctions against Japan, cease aiding China in the Second Sino-Japanese war, and allow Japan to access the resources of the Dutch East Indies. Anticipating a negative response, Japan sent out its naval attack groups in November 1941 just prior to receiving the Hull note—the United States demand that Japan withdraw from China and French Indochina. Japan intended the attack as a preventive action. Its aim was to prevent the United States Pacific Fleet from interfering with its planned military actions in Southeast Asia against overseas territories of the United Kingdom, the Netherlands, and those of the United States. Over the course of seven hours, there were coordinated Japanese attacks on the U.S.-held Philippines, Guam, and Wake Island and on the British Empire in Malaya, Singapore, and Hong Kong.The attack commenced at 7:48 a.m. Hawaiian time (6:18 p.m. GMT). The base was attacked by 353 Imperial Japanese aircraft (including fighters, level and dive bombers, and torpedo bombers) in two waves, launched from six aircraft carriers. Of the eight United States Navy battleships present, all were damaged and four were sunk. All but USS Arizona were later raised, and six were returned to service and went on to fight in the war. The Japanese also sank or damaged three cruisers, three destroyers, an anti-aircraft training ship, and one minelayer. More than 180 US aircraft were destroyed. A total of 2,403 Americans were killed and 1,178 others were wounded, making it the deadliest event ever recorded in Hawaii. Important base installations, such as the power station, dry dock, shipyard, maintenance, and fuel and torpedo storage facilities, as well as the submarine piers and headquarters building (also home of the intelligence section) were not attacked. Japanese losses were light: 29 aircraft and five midget submarines lost, and 129 servicemen killed. Kazuo Sakamaki, the commanding officer of one of the submarines, was captured.\n",
      "Japan declared war on the United States and the British Empire later that day (December 8 in Tokyo), but the declarations were not delivered until the following day. The British government declared war on Japan immediately after learning that their territory had also been attacked, while the following day (December 8), the United States Congress declared war on Japan. On December 11, though they had no formal obligation to do so under the Tripartite Pact with Japan, Germany and Italy each declared war on the United States, which responded with a declaration of war against Germany and Italy.\n",
      "While there were historical precedents for the unannounced military action by Japan, the lack of any formal warning, as required by the Hague Convention of 1907, and the perception that the attack had been unprovoked, led then President Franklin D. Roosevelt, in the opening line of his speech to a Joint Session of Congress the following day, to famously label December 7, 1941, \"a date which will live in infamy\".\n",
      "\n",
      "Page: Pearl Harbor (film)\n",
      "Summary: Pearl Harbor is a 2001 American romantic war drama film directed by Michael Bay, produced by Bay and Jerry Bruckheimer and written by Randall Wallace. It stars Ben Affleck, Kate Beckinsale, Josh Hartnett, Cuba Gooding Jr., Tom Sizemore,\u001b[0m\u001b[32;1m\u001b[1;3mAction: wikipedia\n",
      "Action Input: When did Pearl Harbor happen?\u001b[0m\u001b[36;1m\u001b[1;3mPage: Attack on Pearl Harbor\n",
      "Summary: The attack on Pearl Harbor was a surprise military strike by the Imperial Japanese Navy Air Service upon the United States against the American naval base at Pearl Harbor in Honolulu, Hawaii, just before 8:00 a.m. (local time) on Sunday, December 7, 1941. The United States was a neutral country at the time; the attack led the U.S. to formally enter World War II on the side of the Allies the following day. The Japanese military leadership referred to the attack as the Hawaii Operation and Operation AI, and as Operation Z during its planning.The attack was preceded by months of negotiations between the United States and Japan over the future of the Pacific. Japanese demands included that the United States end its sanctions against Japan, cease aiding China in the Second Sino-Japanese war, and allow Japan to access the resources of the Dutch East Indies. Anticipating a negative response, Japan sent out its naval attack groups in November 1941 just prior to receiving the Hull note—the United States demand that Japan withdraw from China and French Indochina. Japan intended the attack as a preventive action. Its aim was to prevent the United States Pacific Fleet from interfering with its planned military actions in Southeast Asia against overseas territories of the United Kingdom, the Netherlands, and those of the United States. Over the course of seven hours, there were coordinated Japanese attacks on the U.S.-held Philippines, Guam, and Wake Island and on the British Empire in Malaya, Singapore, and Hong Kong.The attack commenced at 7:48 a.m. Hawaiian time (6:18 p.m. GMT). The base was attacked by 353 Imperial Japanese aircraft (including fighters, level and dive bombers, and torpedo bombers) in two waves, launched from six aircraft carriers. Of the eight United States Navy battleships present, all were damaged and four were sunk. All but USS Arizona were later raised, and six were returned to service and went on to fight in the war. The Japanese also sank or damaged three cruisers, three destroyers, an anti-aircraft training ship, and one minelayer. More than 180 US aircraft were destroyed. A total of 2,403 Americans were killed and 1,178 others were wounded, making it the deadliest event ever recorded in Hawaii. Important base installations, such as the power station, dry dock, shipyard, maintenance, and fuel and torpedo storage facilities, as well as the submarine piers and headquarters building (also home of the intelligence section) were not attacked. Japanese losses were light: 29 aircraft and five midget submarines lost, and 129 servicemen killed. Kazuo Sakamaki, the commanding officer of one of the submarines, was captured.\n",
      "Japan declared war on the United States and the British Empire later that day (December 8 in Tokyo), but the declarations were not delivered until the following day. The British government declared war on Japan immediately after learning that their territory had also been attacked, while the following day (December 8), the United States Congress declared war on Japan. On December 11, though they had no formal obligation to do so under the Tripartite Pact with Japan, Germany and Italy each declared war on the United States, which responded with a declaration of war against Germany and Italy.\n",
      "While there were historical precedents for the unannounced military action by Japan, the lack of any formal warning, as required by the Hague Convention of 1907, and the perception that the attack had been unprovoked, led then President Franklin D. Roosevelt, in the opening line of his speech to a Joint Session of Congress the following day, to famously label December 7, 1941, \"a date which will live in infamy\".\n",
      "\n",
      "Page: Pearl Harbor (film)\n",
      "Summary: Pearl Harbor is a 2001 American romantic war drama film directed by Michael Bay, produced by Bay and Jerry Bruckheimer and written by Randall Wallace. It stars Ben Affleck, Kate Beckinsale, Josh Hartnett, Cuba Gooding Jr., Tom Sizemore,\u001b[0m\u001b[32;1m\u001b[1;3mAction: wikipedia\n",
      "Action Input: When did Pearl Harbor happen?\u001b[0m\u001b[36;1m\u001b[1;3mPage: Attack on Pearl Harbor\n",
      "Summary: The attack on Pearl Harbor was a surprise military strike by the Imperial Japanese Navy Air Service upon the United States against the American naval base at Pearl Harbor in Honolulu, Hawaii, just before 8:00 a.m. (local time) on Sunday, December 7, 1941. The United States was a neutral country at the time; the attack led the U.S. to formally enter World War II on the side of the Allies the following day. The Japanese military leadership referred to the attack as the Hawaii Operation and Operation AI, and as Operation Z during its planning.The attack was preceded by months of negotiations between the United States and Japan over the future of the Pacific. Japanese demands included that the United States end its sanctions against Japan, cease aiding China in the Second Sino-Japanese war, and allow Japan to access the resources of the Dutch East Indies. Anticipating a negative response, Japan sent out its naval attack groups in November 1941 just prior to receiving the Hull note—the United States demand that Japan withdraw from China and French Indochina. Japan intended the attack as a preventive action. Its aim was to prevent the United States Pacific Fleet from interfering with its planned military actions in Southeast Asia against overseas territories of the United Kingdom, the Netherlands, and those of the United States. Over the course of seven hours, there were coordinated Japanese attacks on the U.S.-held Philippines, Guam, and Wake Island and on the British Empire in Malaya, Singapore, and Hong Kong.The attack commenced at 7:48 a.m. Hawaiian time (6:18 p.m. GMT). The base was attacked by 353 Imperial Japanese aircraft (including fighters, level and dive bombers, and torpedo bombers) in two waves, launched from six aircraft carriers. Of the eight United States Navy battleships present, all were damaged and four were sunk. All but USS Arizona were later raised, and six were returned to service and went on to fight in the war. The Japanese also sank or damaged three cruisers, three destroyers, an anti-aircraft training ship, and one minelayer. More than 180 US aircraft were destroyed. A total of 2,403 Americans were killed and 1,178 others were wounded, making it the deadliest event ever recorded in Hawaii. Important base installations, such as the power station, dry dock, shipyard, maintenance, and fuel and torpedo storage facilities, as well as the submarine piers and headquarters building (also home of the intelligence section) were not attacked. Japanese losses were light: 29 aircraft and five midget submarines lost, and 129 servicemen killed. Kazuo Sakamaki, the commanding officer of one of the submarines, was captured.\n",
      "Japan declared war on the United States and the British Empire later that day (December 8 in Tokyo), but the declarations were not delivered until the following day. The British government declared war on Japan immediately after learning that their territory had also been attacked, while the following day (December 8), the United States Congress declared war on Japan. On December 11, though they had no formal obligation to do so under the Tripartite Pact with Japan, Germany and Italy each declared war on the United States, which responded with a declaration of war against Germany and Italy.\n",
      "While there were historical precedents for the unannounced military action by Japan, the lack of any formal warning, as required by the Hague Convention of 1907, and the perception that the attack had been unprovoked, led then President Franklin D. Roosevelt, in the opening line of his speech to a Joint Session of Congress the following day, to famously label December 7, 1941, \"a date which will live in infamy\".\n",
      "\n",
      "Page: Pearl Harbor (film)\n",
      "Summary: Pearl Harbor is a 2001 American romantic war drama film directed by Michael Bay, produced by Bay and Jerry Bruckheimer and written by Randall Wallace. It stars Ben Affleck, Kate Beckinsale, Josh Hartnett, Cuba Gooding Jr., Tom Sizemore,\u001b[0m\u001b[32;1m\u001b[1;3mFinal Answer: December 7, 1941\u001b[0m\n",
      "\n",
      "\u001b[1m> Finished chain.\u001b[0m\n"
     ]
    }
   ],
   "source": [
    "result4 = agent_executor3.invoke({\"input\":\"When the did Pearl Harbor happend?\"})"
   ]
  },
  {
   "cell_type": "code",
   "execution_count": 25,
   "id": "875c40ae",
   "metadata": {},
   "outputs": [
    {
     "data": {
      "text/plain": [
       "{'input': 'When the did Pearl Harbor happend?', 'output': 'December 7, 1941'}"
      ]
     },
     "execution_count": 25,
     "metadata": {},
     "output_type": "execute_result"
    }
   ],
   "source": [
    "result4"
   ]
  },
  {
   "cell_type": "code",
   "execution_count": null,
   "id": "e4716210",
   "metadata": {},
   "outputs": [],
   "source": []
  },
  {
   "cell_type": "markdown",
   "id": "1e1d343a",
   "metadata": {},
   "source": [
    "### From Documentation"
   ]
  },
  {
   "cell_type": "code",
   "execution_count": 29,
   "id": "bc737472",
   "metadata": {},
   "outputs": [],
   "source": [
    "@tool\n",
    "def search(query: str) -> str:\n",
    "    \"\"\"Look up things online.\"\"\"\n",
    "    return \"LangChain\""
   ]
  },
  {
   "cell_type": "code",
   "execution_count": 30,
   "id": "47794690",
   "metadata": {},
   "outputs": [
    {
     "name": "stdout",
     "output_type": "stream",
     "text": [
      "search\n",
      "search(query: str) -> str - Look up things online.\n",
      "{'query': {'title': 'Query', 'type': 'string'}}\n"
     ]
    }
   ],
   "source": [
    "print(search.name)\n",
    "print(search.description)\n",
    "print(search.args)"
   ]
  },
  {
   "cell_type": "code",
   "execution_count": 31,
   "id": "81a010a6",
   "metadata": {},
   "outputs": [],
   "source": [
    "@tool\n",
    "def multiply(a: int, b: int) -> int:\n",
    "    \"\"\"Multiply two numbers.\"\"\"\n",
    "    return a * b"
   ]
  },
  {
   "cell_type": "code",
   "execution_count": 32,
   "id": "22b60788",
   "metadata": {},
   "outputs": [
    {
     "name": "stdout",
     "output_type": "stream",
     "text": [
      "multiply\n",
      "multiply(a: int, b: int) -> int - Multiply two numbers.\n",
      "{'a': {'title': 'A', 'type': 'integer'}, 'b': {'title': 'B', 'type': 'integer'}}\n"
     ]
    }
   ],
   "source": [
    "print(multiply.name)\n",
    "print(multiply.description)\n",
    "print(multiply.args)"
   ]
  },
  {
   "cell_type": "code",
   "execution_count": null,
   "id": "a5b71f2c",
   "metadata": {},
   "outputs": [],
   "source": []
  },
  {
   "cell_type": "code",
   "execution_count": null,
   "id": "090c176d",
   "metadata": {},
   "outputs": [],
   "source": []
  }
 ],
 "metadata": {
  "kernelspec": {
   "display_name": "Python 3 (ipykernel)",
   "language": "python",
   "name": "python3"
  },
  "language_info": {
   "codemirror_mode": {
    "name": "ipython",
    "version": 3
   },
   "file_extension": ".py",
   "mimetype": "text/x-python",
   "name": "python",
   "nbconvert_exporter": "python",
   "pygments_lexer": "ipython3",
   "version": "3.9.12"
  }
 },
 "nbformat": 4,
 "nbformat_minor": 5
}
